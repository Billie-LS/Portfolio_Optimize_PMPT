{
 "cells": [
  {
   "cell_type": "markdown",
   "id": "1759d4ef-7651-4066-a39b-85394c30055e",
   "metadata": {},
   "source": [
    "### stock scrape"
   ]
  },
  {
   "cell_type": "code",
   "execution_count": 1,
   "id": "2d112611-e6ab-46ba-b4d1-d012e889bae2",
   "metadata": {},
   "outputs": [],
   "source": [
    "# import os\n",
    "import numpy as np\n",
    "import pandas as pd\n",
    "from pandas_datareader import data as pdr\n",
    "\n",
    "\n",
    "# import scipy as sci\n",
    "from scipy import stats\n",
    "import scipy.optimize as sco\n",
    "\n",
    "\n",
    "import yfinance as yf\n",
    "from yahoofinancials import YahooFinancials\n",
    "\n",
    "\n",
    "import datetime as dt\n",
    "from datetime import date\n",
    "from datetime import timedelta\n",
    "\n",
    "\n",
    "import plotly.graph_objects as go\n",
    " \n",
    "\n",
    "import concurrent.futures as cf\n",
    "\n",
    "\n",
    "import re\n",
    "import ast\n",
    "import time\n",
    "import requests\n",
    "from bs4 import BeautifulSoup"
   ]
  },
  {
   "cell_type": "code",
   "execution_count": 2,
   "id": "65ada5d0-bc8d-4af8-bec8-fa4cf048c606",
   "metadata": {},
   "outputs": [
    {
     "name": "stdout",
     "output_type": "stream",
     "text": [
      "sp_500 [0       MMM\n",
      "1       AOS\n",
      "2       ABT\n",
      "3      ABBV\n",
      "4      ABMD\n",
      "       ... \n",
      "498     YUM\n",
      "499    ZBRA\n",
      "500     ZBH\n",
      "501    ZION\n",
      "502     ZTS\n",
      "Name: Symbol, Length: 503, dtype: object]\n"
     ]
    }
   ],
   "source": [
    "sp500 = []\n",
    "sp_500 = 'http://en.wikipedia.org/wiki/List_of_S%26P_500_companies'\n",
    "sp500.append(pd.read_html(sp_500)[0]['Symbol'])\n",
    "print('sp_500', sp500)"
   ]
  },
  {
   "cell_type": "code",
   "execution_count": 3,
   "id": "72a1e295-0f22-49c9-ad1c-fc428319e956",
   "metadata": {},
   "outputs": [
    {
     "name": "stdout",
     "output_type": "stream",
     "text": [
      "1 1 False\n"
     ]
    }
   ],
   "source": [
    "stockList = sp500\n",
    "stocks = [stock for stock in stockList]\n",
    "stocks_set = stocks\n",
    "\n",
    "contains_duplicates = len(stocks_set) != len(stocks)\n",
    "contains_duplicates = any(stocks.count(stock) > 1 for stock in stockList)\n",
    "print(len(stocks_set), len(stocks), contains_duplicates)"
   ]
  },
  {
   "cell_type": "code",
   "execution_count": null,
   "id": "2d20b50c-76e4-4660-9c4c-aac57df728f6",
   "metadata": {},
   "outputs": [],
   "source": []
  }
 ],
 "metadata": {
  "kernelspec": {
   "display_name": "Python 3 (ipykernel)",
   "language": "python",
   "name": "python3"
  },
  "language_info": {
   "codemirror_mode": {
    "name": "ipython",
    "version": 3
   },
   "file_extension": ".py",
   "mimetype": "text/x-python",
   "name": "python",
   "nbconvert_exporter": "python",
   "pygments_lexer": "ipython3",
   "version": "3.9.13"
  }
 },
 "nbformat": 4,
 "nbformat_minor": 5
}
