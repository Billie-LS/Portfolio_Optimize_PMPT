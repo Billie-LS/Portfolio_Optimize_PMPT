{
 "cells": [
  {
   "cell_type": "markdown",
   "id": "8683a589-49c9-41a6-9878-779a0971ca8f",
   "metadata": {},
   "source": [
    "### This code taken and/or adapted from [QuantPY](https://quantpy.com.au/)"
   ]
  },
  {
   "cell_type": "code",
   "execution_count": 1,
   "id": "6f883726-968d-487b-94f1-726e09bdbf4e",
   "metadata": {},
   "outputs": [],
   "source": [
    "# import os\n",
    "import numpy as np\n",
    "import pandas as pd\n",
    "from pandas_datareader import data as pdr\n",
    "\n",
    "# import scipy as sci\n",
    "from scipy import stats\n",
    "import scipy.optimize as sco\n",
    "\n",
    "import yfinance as yf\n",
    "\n",
    "import datetime as dt\n",
    "from datetime import date\n",
    "from datetime import timedelta\n",
    "\n",
    "import plotly.graph_objects as go"
   ]
  },
  {
   "cell_type": "code",
   "execution_count": 2,
   "id": "57a2b07e-6bfd-43ab-b35e-6edff3e6dff6",
   "metadata": {},
   "outputs": [
    {
     "name": "stdout",
     "output_type": "stream",
     "text": [
      "Start date: 2012-10-22 07:40:07.159659 and End date: 2022-10-22 17:52:07.159659\n"
     ]
    }
   ],
   "source": [
    "# Specify date range for data\n",
    "# Set start and end dates of 5 years \"5Y\" back from your current date\n",
    "# Define the time delta (time-frame) to start with\n",
    "time_delta = 10\n",
    "\n",
    "end_date = pd.to_datetime('today')\n",
    "# 10 years\n",
    "start_date = end_date - np.timedelta64(time_delta, 'Y')\n",
    "start, end = start_date, end_date\n",
    "# Verify date range\n",
    "print(f\"Start date: {start} and End date: {end}\")"
   ]
  },
  {
   "cell_type": "code",
   "execution_count": 3,
   "id": "1019b95b-25bb-46c2-9e1d-b1f013484b3d",
   "metadata": {},
   "outputs": [],
   "source": [
    "# Specify portfolio sectors - basket of market index and assets\n",
    "blend_list = ['IBM', 'TSLA','TSM', 'NVDA', 'DVN', 'OXY','CNI', 'NOC','BHF', 'AIG']\n",
    "tech_list = ['AAPL', 'IBM', 'TSLA', 'GOOGL', 'MSFT','CSCO', 'TSM', 'NVDA']\n",
    "energy_list = ['DVN', 'OXY', 'NEE', 'MRO', 'APA', 'PDC', 'CTRA']\n",
    "industrials_list = ['BA', 'GE', 'CNI', 'NOC', 'LPX', 'BLDR', 'AAL', 'CPA']\n",
    "financials_list = ['BHF', 'AIG', 'EQH', 'PFG', 'WBS']\n",
    "market = ['^GSPC']   # adding S&P 500 Index (^GSPC) for use in beta weighting "
   ]
  },
  {
   "cell_type": "code",
   "execution_count": 4,
   "id": "7c84900d-d732-48da-90aa-84362a00af7e",
   "metadata": {},
   "outputs": [
    {
     "name": "stdout",
     "output_type": "stream",
     "text": [
      "Basket of stocks\n",
      "['^GSPC', 'IBM', 'TSLA', 'TSM', 'NVDA', 'DVN', 'OXY', 'CNI', 'NOC', 'BHF', 'AIG']\n"
     ]
    }
   ],
   "source": [
    "# Specify portfolio sectors - basket of market index and assets - S&P 500 Index (^GSPC) and Tech Stocks List\n",
    "basket_list = market + blend_list # ds.tech_list + ds.energy_list + ds.industrials_list + ds.financials_list\n",
    "\n",
    "print(\"Basket of stocks\")\n",
    "print(basket_list)"
   ]
  },
  {
   "cell_type": "markdown",
   "id": "3bff3784-4f16-491b-a7b2-6719680439b4",
   "metadata": {},
   "source": [
    "#### Get Stock Data"
   ]
  },
  {
   "cell_type": "code",
   "execution_count": null,
   "id": "554f71ff-08b6-4a87-86e6-36a906cb7545",
   "metadata": {},
   "outputs": [],
   "source": [
    "# Import data\n",
    "def getData(basket_list, start_date, end_date):\n",
    "    stockData = pdr.get_data_yahoo(basket_list, start=start_date, end=end_date)\n",
    "    stockData = stockData['Close']\n",
    "\n",
    "    returns = stockData.pct_change()\n",
    "    meanReturns = returns.mean()\n",
    "    covMatrix = returns.cov()\n",
    "    return meanReturns, covMatrix\n",
    "\n",
    "# call it\n",
    "meanReturns, covMatrix = getData(basket_list, start_date, end_date)\n",
    "display(meanReturns)\n",
    "display(covMatrix)"
   ]
  },
  {
   "cell_type": "code",
   "execution_count": null,
   "id": "299b8075-1011-4870-8c52-73d7672b19e4",
   "metadata": {},
   "outputs": [],
   "source": [
    "df = pdr.get_data_yahoo(basket_list, start_date, end_date)\n",
    "log_returns = np.log(df.Close / df.Close.shift(1)).dropna()\n",
    "log_returns.head()"
   ]
  },
  {
   "cell_type": "markdown",
   "id": "48629003-8270-44bf-870c-7d279227eea8",
   "metadata": {},
   "source": [
    "### Directly calculate beta"
   ]
  },
  {
   "cell_type": "code",
   "execution_count": null,
   "id": "1e18f9a1-9af9-4dae-af62-0296e3907346",
   "metadata": {},
   "outputs": [],
   "source": [
    "def calc_beta(df):\n",
    "    np_array = df.values\n",
    "    # Market index is the first column 0\n",
    "    m = np_array[:,0] \n",
    "    beta = []\n",
    "    for ind, col in enumerate(df):\n",
    "        if ind > 0:\n",
    "            # stock returns are indexed by ind\n",
    "            s = np_array[:,ind] \n",
    "            # Calculate covariance matrix between stock and market\n",
    "            covariance = np.cov(s,m) \n",
    "            beta.append( covariance[0,1]/covariance[1,1] )\n",
    "    return pd.Series(beta, df.columns[1:], name='Beta')\n",
    "\n",
    "calc_beta(log_returns)"
   ]
  },
  {
   "cell_type": "markdown",
   "id": "fc4ebd65-7515-448f-b6bf-7da596fe74e7",
   "metadata": {},
   "source": [
    "### Define your Portfolio and make DataFrame\n",
    "Calculate Beta Weighted Portfolio"
   ]
  },
  {
   "cell_type": "code",
   "execution_count": null,
   "id": "5124e6af-f7ca-4d38-accb-8226969daef3",
   "metadata": {},
   "outputs": [],
   "source": [
    "units = np.array([100, 250, 300, 400, 200])\n",
    "ASXprices = df.Close[-1:].values.tolist()[0]\n",
    "price = np.array([round(price,2) for price in ASXprices[1:]])\n",
    "value = [unit*pr for unit, pr in zip(units, price)]\n",
    "weight = [round(val/sum(value),2) for val in value]\n",
    "beta = round(beta,2)\n",
    "\n",
    "Portfolio = pd.DataFrame({\n",
    "    'Stock': stockList,\n",
    "    'Direction': 'Long',\n",
    "    'Type': 'S',\n",
    "    'Stock Price': price,\n",
    "    'Price': price,\n",
    "    'Units': units,\n",
    "    'Value': units*price,\n",
    "    'Weight': weight,\n",
    "    'Beta': beta,\n",
    "    'Weighted Beta': weight*beta\n",
    "})\n",
    "Portfolio"
   ]
  },
  {
   "cell_type": "markdown",
   "id": "7edc5c4c-f9d4-4763-834a-69001a15a06c",
   "metadata": {},
   "source": [
    "### Weight the Delta’s using Beta"
   ]
  },
  {
   "cell_type": "code",
   "execution_count": null,
   "id": "57df8cf4-4256-41b0-a8ed-c84c107716d3",
   "metadata": {},
   "outputs": [],
   "source": [
    "Portfolio['ASX200 Weighted Delta (point)'] = round(Portfolio['Beta'] * (Portfolio['Stock Price']/ASXprices[0]) * Portfolio['Delta'],2) \n",
    "Portfolio['ASX200 Weighted Delta (1%)'] = round(Portfolio['Beta'] * (Portfolio['Stock Price']) * Portfolio['Delta'] * 0.01,2) \n",
    "Portfolio"
   ]
  },
  {
   "cell_type": "markdown",
   "id": "945ea14b-d133-417d-b46d-f77e3716c714",
   "metadata": {},
   "source": [
    "### Total the Delta’s to get Portfolio Overview"
   ]
  },
  {
   "cell_type": "code",
   "execution_count": null,
   "id": "365b2c48-50a8-416c-b61d-58343eeecc87",
   "metadata": {},
   "outputs": [],
   "source": [
    "Portfolio.loc['Total', ['Value', 'ASX200 Weighted Delta (point)', 'ASX200 Weighted Delta (1%)']] \\\n",
    "= Portfolio[['Value','ASX200 Weighted Delta (point)', 'ASX200 Weighted Delta (1%)']].sum()\n",
    "Portfolio"
   ]
  },
  {
   "cell_type": "markdown",
   "id": "c6381693-0465-4fb8-b3a9-86e35406e1f6",
   "metadata": {},
   "source": [
    "### calculate portfolioPerformance metrics. "
   ]
  },
  {
   "cell_type": "code",
   "execution_count": null,
   "id": "4d61015c-9ef9-417d-985d-805f1d7494c6",
   "metadata": {},
   "outputs": [],
   "source": [
    "def portfolioPerformance(weights, meanReturns, covMatrix):\n",
    "    returns = np.sum(meanReturns*weights)*252\n",
    "    std = np.sqrt(\n",
    "            np.dot(weights.T,np.dot(covMatrix, weights))\n",
    "           )*np.sqrt(252)\n",
    "    return returns, std\n",
    "\n",
    "# call it\n",
    "returns, std = portfolioPerformance(weights, meanReturns, covMatrix)"
   ]
  },
  {
   "cell_type": "markdown",
   "id": "7dca4f1e-f2a9-4c35-8f3d-8cea71c08b3f",
   "metadata": {},
   "source": [
    "### Maximium Sharpe Ratio Portfolio"
   ]
  },
  {
   "cell_type": "code",
   "execution_count": null,
   "id": "190333d5-7fd7-442f-856e-8e14d6297fcc",
   "metadata": {},
   "outputs": [],
   "source": [
    "def negativeSR(weights, meanReturns, covMatrix, riskFreeRate = 0):\n",
    "    pReturns, pStd = portfolioPerformance(weights, meanReturns, covMatrix)\n",
    "    return - (pReturns - riskFreeRate)/pStd\n",
    "\n",
    "def maxSR(meanReturns, covMatrix, riskFreeRate = 0, constraintSet=(0,1)):\n",
    "    \"Minimize the negative SR, by altering the weights of the portfolio\"\n",
    "    numAssets = len(meanReturns)\n",
    "    args = (meanReturns, covMatrix, riskFreeRate)\n",
    "    constraints = ({'type': 'eq', 'fun': lambda x: np.sum(x) - 1})\n",
    "    bound = constraintSet\n",
    "    bounds = tuple(bound for asset in range(numAssets))\n",
    "    result = sc.minimize(negativeSR, numAssets*[1./numAssets], args=args,\n",
    "                        method='SLSQP', bounds=bounds, constraints=constraints)\n",
    "    return result"
   ]
  },
  {
   "cell_type": "markdown",
   "id": "f3a4eb12-345a-412f-a8f6-039ec376fc1a",
   "metadata": {},
   "source": [
    "### Minimium Portfolio Variance"
   ]
  },
  {
   "cell_type": "code",
   "execution_count": null,
   "id": "ea2cd87d-7308-4121-99a2-a2382b36e156",
   "metadata": {},
   "outputs": [],
   "source": [
    "def portfolioVariance(weights, meanReturns, covMatrix):\n",
    "    return portfolioPerformance(weights, meanReturns, covMatrix)[1]\n",
    "\n",
    "def minimizeVariance(meanReturns, covMatrix, constraintSet=(0,1)):\n",
    "    \"\"\"Minimize the portfolio variance by altering the \n",
    "     weights/allocation of assets in the portfolio\"\"\"\n",
    "    numAssets = len(meanReturns)\n",
    "    args = (meanReturns, covMatrix)\n",
    "    constraints = ({'type': 'eq', 'fun': lambda x: np.sum(x) - 1})\n",
    "    bound = constraintSet\n",
    "    bounds = tuple(bound for asset in range(numAssets))\n",
    "    result = sc.minimize(portfolioVariance, numAssets*[1./numAssets], args=args,\n",
    "                        method='SLSQP', bounds=bounds, constraints=constraints)\n",
    "    return result"
   ]
  },
  {
   "cell_type": "markdown",
   "id": "c982d9c8-cb7b-42a2-bec4-2acd70f0bc9a",
   "metadata": {},
   "source": [
    "### Creating the Efficient Frontier"
   ]
  },
  {
   "cell_type": "code",
   "execution_count": null,
   "id": "c7ca5cf5-c375-41f2-95ac-348563f2681c",
   "metadata": {},
   "outputs": [],
   "source": [
    "def portfolioReturn(weights, meanReturns, covMatrix):\n",
    "        return portfolioPerformance(weights, meanReturns, covMatrix)[0]\n",
    "\n",
    "\n",
    "def efficientOpt(meanReturns, covMatrix, returnTarget, constraintSet=(0,1)):\n",
    "    \"\"\"For each returnTarget, we want to optimise the portfolio for min variance\"\"\"\n",
    "    numAssets = len(meanReturns)\n",
    "    args = (meanReturns, covMatrix)\n",
    "\n",
    "    constraints = ({'type':'eq', 'fun': lambda x: portfolioReturn(x, meanReturns, covMatrix) - returnTarget},\n",
    "                    {'type': 'eq', 'fun': lambda x: np.sum(x) - 1})\n",
    "    bound = constraintSet\n",
    "    bounds = tuple(bound for asset in range(numAssets))\n",
    "    effOpt = sc.minimize(portfolioVariance, numAssets*[1./numAssets], args=args, method = 'SLSQP', bounds=bounds, constraints=constraints)\n",
    "    return effOpt"
   ]
  },
  {
   "cell_type": "markdown",
   "id": "5272deba-ae11-49ed-895a-dcc21803a415",
   "metadata": {},
   "source": [
    "### callable function for graphing package like Plotly/Dash combination"
   ]
  },
  {
   "cell_type": "code",
   "execution_count": null,
   "id": "dc42c7c8-f9af-448a-b133-1b875880a983",
   "metadata": {},
   "outputs": [],
   "source": [
    "def calculatedResults(meanReturns, covMatrix, riskFreeRate=0.03, constraintSet=(0,1)):\n",
    "    \"\"\"Read in mean, cov matrix, and other financial information\n",
    "        Output, Max SR , Min Volatility, efficient frontier \"\"\"\n",
    "    # Max Sharpe Ratio Portfolio\n",
    "    maxSR_Portfolio = maxSR(meanReturns, covMatrix)\n",
    "    maxSR_returns, maxSR_std = portfolioPerformance(maxSR_Portfolio['x'], meanReturns, covMatrix)\n",
    "    maxSR_returns, maxSR_std = round(maxSR_returns*100,2), round(maxSR_std*100,2)\n",
    "    maxSR_allocation = pd.DataFrame(maxSR_Portfolio['x'], index=meanReturns.index, columns=['allocation'])\n",
    "    maxSR_allocation.allocation = [round(i*100,0) for i in maxSR_allocation.allocation]\n",
    "    \n",
    "    # Min Volatility Portfolio\n",
    "    minVol_Portfolio = minimizeVariance(meanReturns, covMatrix)\n",
    "    minVol_returns, minVol_std = portfolioPerformance(minVol_Portfolio['x'], meanReturns, covMatrix)\n",
    "    minVol_returns, minVol_std = round(minVol_returns*100,2), round(minVol_std*100,2)\n",
    "    minVol_allocation = pd.DataFrame(minVol_Portfolio['x'], index=meanReturns.index, columns=['allocation'])\n",
    "    minVol_allocation.allocation = [round(i*100,0) for i in minVol_allocation.allocation]\n",
    "\n",
    "    # Efficient Frontier\n",
    "    efficientList = []\n",
    "    targetReturns = np.linspace(minVol_returns, maxSR_returns, 20)\n",
    "    for target in targetReturns:\n",
    "        efficientList.append(efficientOpt(meanReturns, covMatrix, target)['fun'])\n",
    "\n",
    "    return maxSR_returns, maxSR_std, maxSR_allocation, minVol_returns, minVol_std, minVol_allocation, efficientList"
   ]
  },
  {
   "cell_type": "markdown",
   "id": "3b81b3b7-c1e1-4273-a961-dd4b7c5d5fc6",
   "metadata": {},
   "source": [
    "### Visualising the Efficient Frontier"
   ]
  },
  {
   "cell_type": "code",
   "execution_count": null,
   "id": "7fdc7e3b-eb27-4abe-8614-be1188dd7a6a",
   "metadata": {},
   "outputs": [],
   "source": [
    "def EF_graph(meanReturns, covMatrix, riskFreeRate=0, constraintSet=(0,1)):\n",
    "    \"\"\"Return a graph ploting the min vol, max sr and efficient frontier\"\"\"\n",
    "    maxSR_returns, maxSR_std, maxSR_allocation, minVol_returns, minVol_std, minVol_allocation, efficientList, targetReturns = calculatedResults(meanReturns, covMatrix, riskFreeRate, constraintSet)\n",
    "\n",
    "    #Max SR\n",
    "    MaxSharpeRatio = go.Scatter(\n",
    "        name='Maximium Sharpe Ratio',\n",
    "        mode='markers',\n",
    "        x=[maxSR_std],\n",
    "        y=[maxSR_returns],\n",
    "        marker=dict(color='red',size=14,line=dict(width=3, color='black'))\n",
    "    )\n",
    "\n",
    "    #Min Vol\n",
    "    MinVol = go.Scatter(\n",
    "        name='Mininium Volatility',\n",
    "        mode='markers',\n",
    "        x=[minVol_std],\n",
    "        y=[minVol_returns],\n",
    "        marker=dict(color='green',size=14,line=dict(width=3, color='black'))\n",
    "    )\n",
    "\n",
    "    #Efficient Frontier\n",
    "    EF_curve = go.Scatter(\n",
    "        name='Efficient Frontier',\n",
    "        mode='lines',\n",
    "        x=[round(ef_std*100, 2) for ef_std in efficientList],\n",
    "        y=[round(target*100, 2) for target in targetReturns],\n",
    "        line=dict(color='black', width=4, dash='dashdot')\n",
    "    )\n",
    "\n",
    "    data = [MaxSharpeRatio, MinVol, EF_curve]\n",
    "\n",
    "    layout = go.Layout(\n",
    "        title = 'Portfolio Optimisation with the Efficient Frontier',\n",
    "        yaxis = dict(title='Annualised Return (%)'),\n",
    "        xaxis = dict(title='Annualised Volatility (%)'),\n",
    "        showlegend = True,\n",
    "        legend = dict(\n",
    "            x = 0.75, y = 0, traceorder='normal',\n",
    "            bgcolor='#E2E2E2',\n",
    "            bordercolor='black',\n",
    "            borderwidth=2),\n",
    "        width=800,\n",
    "        height=600)\n",
    "    \n",
    "    fig = go.Figure(data=data, layout=layout)\n",
    "    return fig.show()"
   ]
  },
  {
   "cell_type": "code",
   "execution_count": null,
   "id": "003f923a-e53f-4cfe-8287-767a78ca0a7e",
   "metadata": {},
   "outputs": [],
   "source": []
  }
 ],
 "metadata": {
  "kernelspec": {
   "display_name": "Python 3 (ipykernel)",
   "language": "python",
   "name": "python3"
  },
  "language_info": {
   "codemirror_mode": {
    "name": "ipython",
    "version": 3
   },
   "file_extension": ".py",
   "mimetype": "text/x-python",
   "name": "python",
   "nbconvert_exporter": "python",
   "pygments_lexer": "ipython3",
   "version": "3.9.13"
  }
 },
 "nbformat": 4,
 "nbformat_minor": 5
}
